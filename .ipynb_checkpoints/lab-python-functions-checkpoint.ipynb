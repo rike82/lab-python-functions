{
 "cells": [
  {
   "cell_type": "markdown",
   "id": "25d7736c-ba17-4aff-b6bb-66eba20fbf4e",
   "metadata": {},
   "source": [
    "# Lab | Functions"
   ]
  },
  {
   "cell_type": "markdown",
   "id": "0c581062-8967-4d93-b06e-62833222f930",
   "metadata": {
    "tags": []
   },
   "source": [
    "## Exercise: Managing Customer Orders with Functions\n",
    "\n",
    "In the previous exercise, you improved the code for managing customer orders by using loops and flow control. Now, let's take it a step further and refactor the code by introducing functions.\n",
    "\n",
    "Follow the steps below to complete the exercise:\n",
    "\n",
    "1. Define a function named `initialize_inventory` that takes `products` as a parameter. Inside the function, implement the code for initializing the inventory dictionary using a loop and user input.\n",
    "\n",
    "2. Define a function named `get_customer_orders` that takes no parameters. Inside the function, implement the code for prompting the user to enter the product names using a loop. The function should return the `customer_orders` set.\n",
    "\n",
    "3. Define a function named `update_inventory` that takes `customer_orders` and `inventory` as parameters. Inside the function, implement the code for updating the inventory dictionary based on the customer orders.\n",
    "\n",
    "4. Define a function named `calculate_order_statistics` that takes `customer_orders` and `products` as parameters. Inside the function, implement the code for calculating the order statistics (total products ordered, and percentage of unique products ordered). The function should return these values.\n",
    "\n",
    "5. Define a function named `print_order_statistics` that takes `order_statistics` as a parameter. Inside the function, implement the code for printing the order statistics.\n",
    "\n",
    "6. Define a function named `print_updated_inventory` that takes `inventory` as a parameter. Inside the function, implement the code for printing the updated inventory.\n",
    "\n",
    "7. Call the functions in the appropriate sequence to execute the program and manage customer orders.\n",
    "\n",
    "Hints for functions:\n",
    "\n",
    "- Consider the input parameters required for each function and their return values.\n",
    "- Utilize function parameters and return values to transfer data between functions.\n",
    "- Test your functions individually to ensure they work correctly.\n",
    "\n",
    "\n"
   ]
  },
  {
   "cell_type": "code",
   "execution_count": 19,
   "id": "77e75943",
   "metadata": {},
   "outputs": [],
   "source": [
    "#1\n",
    "products = [\"t-shirt\", \"mug\", \"hat\", \"book\", \"keychain\"]"
   ]
  },
  {
   "cell_type": "code",
   "execution_count": 20,
   "id": "0b44d544",
   "metadata": {},
   "outputs": [],
   "source": [
    "def initialize_inventory (products):\n",
    "    inventory = {}\n",
    "    for item in products:\n",
    "        quantity = int(input(\"Please enter the quantity of \" + item))\n",
    "        inventory[item] = quantity\n",
    "    return inventory\n",
    "        \n",
    "    "
   ]
  },
  {
   "cell_type": "code",
   "execution_count": 21,
   "id": "095440fc",
   "metadata": {},
   "outputs": [],
   "source": [
    "#2\n",
    "def get_customer_orders():  \n",
    "    customer_order = set()\n",
    "    while True:\n",
    "        order = input(\"Please select an item for your order: \")\n",
    "        customer_order.add(order)\n",
    "        additional_item = input(\"Do you want to add another item to your order?['Yes'/'No'] \")\n",
    "        if (additional_item == \"No\"):\n",
    "            break\n",
    "        elif (additional_item == \"Yes\"):\n",
    "            pass\n",
    "        else:\n",
    "            additional_item = input(\"Only type 'Yes' or 'No' to continue, please!\")\n",
    "            if additional_item == \"No\":\n",
    "                break\n",
    "    return customer_order"
   ]
  },
  {
   "cell_type": "code",
   "execution_count": 22,
   "id": "c6713caa",
   "metadata": {},
   "outputs": [],
   "source": [
    "#3\n",
    "def update_inventory(customer_orders, inventory):\n",
    "    for item in customer_orders:\n",
    "        inventory[item] -= 1\n",
    "        return inventory    "
   ]
  },
  {
   "cell_type": "code",
   "execution_count": 23,
   "id": "921fb9ee",
   "metadata": {},
   "outputs": [],
   "source": [
    "#4 Define a function named calculate_order_statistics that takes customer_orders and products as parameters. \n",
    "# Inside the function, implement the code for calculating the order statistics (total products ordered, and percentage of unique products ordered). The function should return these values.\n",
    "\n",
    "def calculate_order_statistics(customer_orders, products):\n",
    "    # order_statistics = total products ordered,percentage of unique products ordered\n",
    "    total_products_ordered = len(customer_orders)\n",
    "    unique_products = len(products)\n",
    "    percentage_of_unique_products_ordered = (total_products_ordered/unique_products)*100\n",
    "    return(total_products_ordered,percentage_of_unique_products_ordered)\n",
    "    \n"
   ]
  },
  {
   "cell_type": "code",
   "execution_count": 26,
   "id": "6750e5f8",
   "metadata": {},
   "outputs": [],
   "source": [
    "#5\n",
    "def print_order_statistics(order_stats):\n",
    "    print(f\"You ordered {order_stats[0]} articles which would be {order_stats[1]} % of our items\")\n",
    "    \n",
    "\n"
   ]
  },
  {
   "cell_type": "code",
   "execution_count": 27,
   "id": "94c68e31",
   "metadata": {},
   "outputs": [],
   "source": [
    "#6\n",
    "def print_updated_inventory(inventory_updated):\n",
    "    print(f\"Now there are {inventory_updated} left in stock.\")\n",
    "    \n",
    "\n",
    "    \n"
   ]
  },
  {
   "cell_type": "code",
   "execution_count": 28,
   "id": "b50cb77f",
   "metadata": {},
   "outputs": [
    {
     "name": "stdout",
     "output_type": "stream",
     "text": [
      "Please enter the quantity of t-shirt1\n",
      "Please enter the quantity of mug2\n",
      "Please enter the quantity of hat3\n",
      "Please enter the quantity of book4\n",
      "Please enter the quantity of keychain5\n",
      "Please select an item for your order: mug\n",
      "Do you want to add another item to your order?['Yes'/'No'] Yes\n",
      "Please select an item for your order: hat\n",
      "Do you want to add another item to your order?['Yes'/'No'] No\n",
      "You ordered 2 articles which would be 40.0 % of our items\n",
      "Now there are {'t-shirt': 1, 'mug': 1, 'hat': 3, 'book': 4, 'keychain': 5} left in stock.\n"
     ]
    }
   ],
   "source": [
    "#7. Call the functions in the appropriate sequence to execute the program and manage customer orders.\n",
    "inventory_list = initialize_inventory(products)\n",
    "# print(inventory_list) #---optional\n",
    "customer_orders = get_customer_orders()\n",
    "# print(customer_orders) #---optional\n",
    "inventory = update_inventory(customer_orders, inventory_list)\n",
    "# print(inventory) #---optional\n",
    "order_statistics = calculate_order_statistics(customer_orders, products)\n",
    "print_order_statistics(order_statistics)\n",
    "print_updated_inventory(inventory)\n"
   ]
  }
 ],
 "metadata": {
  "kernelspec": {
   "display_name": "Python 3 (ipykernel)",
   "language": "python",
   "name": "python3"
  },
  "language_info": {
   "codemirror_mode": {
    "name": "ipython",
    "version": 3
   },
   "file_extension": ".py",
   "mimetype": "text/x-python",
   "name": "python",
   "nbconvert_exporter": "python",
   "pygments_lexer": "ipython3",
   "version": "3.9.12"
  }
 },
 "nbformat": 4,
 "nbformat_minor": 5
}
